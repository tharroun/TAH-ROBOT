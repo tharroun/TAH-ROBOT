{
 "cells": [
  {
   "cell_type": "code",
   "execution_count": 1,
   "id": "d59747c6",
   "metadata": {},
   "outputs": [],
   "source": [
    "import USART\n",
    "import time"
   ]
  },
  {
   "cell_type": "code",
   "execution_count": 4,
   "id": "dcd1fb2f",
   "metadata": {},
   "outputs": [
    {
     "name": "stdout",
     "output_type": "stream",
     "text": [
      "please wait...\n",
      "\n",
      "$MSPD:0.00,0.00,0.00,0.00#\n"
     ]
    }
   ],
   "source": [
    "print(\"please wait...\")\n",
    "USART.send_upload_command(USART.UPLOAD_DATA)#给电机模块发送需要上报的数据\tSend the data that needs to be reported to the motor module\n",
    "time.sleep(0.5)\n",
    "USART.set_motor_parameter()#设计电机参数  Design motor parameters\n",
    "time.sleep(0.5)\n",
    "USART.send_data(\"$read_flash#\")\n",
    "received_message = USART.receive_data()\n",
    "print(received_message)"
   ]
  },
  {
   "cell_type": "code",
   "execution_count": 3,
   "id": "3fe9872e",
   "metadata": {},
   "outputs": [],
   "source": [
    "USART.set_motor_type(1)  # 配置电机类型   Configure motor type\n",
    "time.sleep(0.1)\n",
    "USART.set_pluse_phase(30)  # 配置减速比，查电机手册得出   Configure the reduction ratio and check the motor manual for the result.\n",
    "time.sleep(0.1)\n",
    "USART.set_pluse_line(11)  # 配置磁环线，查电机手册得出    Configure the magnetic ring wire and check the motor manual to get the result\n",
    "time.sleep(0.1)\n",
    "USART.set_wheel_dis(94.00)  # 配置轮子直径，测量得出  Configure the wheel diameter and measure it\n",
    "time.sleep(0.1)\n",
    "USART.set_motor_deadzone(2200)  # 配置电机死区，实验得出  Configure the motor dead zone, and the experiment shows\n",
    "time.sleep(0.1)\n",
    "USART.set_pid(1.5,0.03,0.1)"
   ]
  },
  {
   "cell_type": "code",
   "execution_count": 6,
   "id": "70576e0b",
   "metadata": {},
   "outputs": [],
   "source": [
    "USART.control_pwm(1, 1, 1, 1)"
   ]
  },
  {
   "cell_type": "code",
   "execution_count": 16,
   "id": "d0fa366e",
   "metadata": {},
   "outputs": [],
   "source": [
    "USART.control_pwm(0, 0, 0, 0)"
   ]
  },
  {
   "cell_type": "code",
   "execution_count": 15,
   "id": "97bd3fd0",
   "metadata": {},
   "outputs": [],
   "source": [
    "USART.control_speed(-80,80,80,-80)"
   ]
  },
  {
   "cell_type": "code",
   "execution_count": 3,
   "id": "c290bda7",
   "metadata": {},
   "outputs": [
    {
     "name": "stdout",
     "output_type": "stream",
     "text": [
      "\r\n",
      "read_flash:OK!\r\n",
      "Motor_Version:1.7.3\r\n",
      "Motor_type:1\r\n",
      "Dead_Zone:2200\r\n",
      "Pulse_Line:11\r\n",
      "Pulse_Phase:30\r\n",
      "wheel_diameter:94.000\r\n",
      "P:1.500\t I:0.030\t D:0.100\t \r\n",
      "$MSPD:0.00,0.00,0.00,0.00#\n"
     ]
    }
   ],
   "source": [
    "USART.send_data(\"$read_flash#\")\n",
    "received_message = USART.receive_data()\n",
    "print(received_message)"
   ]
  },
  {
   "cell_type": "code",
   "execution_count": null,
   "id": "aa0882d3",
   "metadata": {},
   "outputs": [],
   "source": []
  }
 ],
 "metadata": {
  "kernelspec": {
   "display_name": "Python 3 (ipykernel)",
   "language": "python",
   "name": "python3"
  },
  "language_info": {
   "codemirror_mode": {
    "name": "ipython",
    "version": 3
   },
   "file_extension": ".py",
   "mimetype": "text/x-python",
   "name": "python",
   "nbconvert_exporter": "python",
   "pygments_lexer": "ipython3",
   "version": "3.11.2"
  }
 },
 "nbformat": 4,
 "nbformat_minor": 5
}

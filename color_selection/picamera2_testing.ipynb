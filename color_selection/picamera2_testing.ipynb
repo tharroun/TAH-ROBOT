{
 "cells": [
  {
   "cell_type": "code",
   "execution_count": 1,
   "id": "4fdc89e1",
   "metadata": {},
   "outputs": [],
   "source": [
    "import numpy as np\n",
    "from picamera2 import Picamera2\n",
    "import cv2\n",
    "import pprint\n",
    "import time"
   ]
  },
  {
   "cell_type": "code",
   "execution_count": 2,
   "id": "77df613d",
   "metadata": {},
   "outputs": [
    {
     "name": "stderr",
     "output_type": "stream",
     "text": [
      "[3:37:32.383225079] [8388] \u001b[1;32m INFO \u001b[1;37mCamera \u001b[1;34mcamera_manager.cpp:326 \u001b[0mlibcamera v0.5.1+100-e53bdf1f\n",
      "[3:37:32.416506099] [8410] \u001b[1;32m INFO \u001b[1;37mRPI \u001b[1;34mpisp.cpp:720 \u001b[0mlibpisp version v1.2.1 981977ff21f3 29-04-2025 (14:13:50)\n",
      "[3:37:32.427555587] [8410] \u001b[1;32m INFO \u001b[1;37mRPI \u001b[1;34mpisp.cpp:1179 \u001b[0mRegistered camera /base/axi/pcie@1000120000/rp1/i2c@80000/imx708@1a to CFE device /dev/media0 and ISP device /dev/media1 using PiSP variant BCM2712_D0\n"
     ]
    }
   ],
   "source": [
    "picam2 = Picamera2()"
   ]
  },
  {
   "cell_type": "code",
   "execution_count": 3,
   "id": "dbeb5c01",
   "metadata": {},
   "outputs": [
    {
     "name": "stdout",
     "output_type": "stream",
     "text": [
      "{'SyncFrames': (1, 1000000, 100),\n",
      " 'AnalogueGain': (1.0, 16.0, 1.0),\n",
      " 'SyncMode': (0, 2, 0),\n",
      " 'HdrMode': (0, 4, 0),\n",
      " 'FrameDurationLimits': (33333, 120000, 33333),\n",
      " 'ScalerCrop': ((0, 0, 0, 0), (65535, 65535, 65535, 65535), (0, 0, 0, 0)),\n",
      " 'NoiseReductionMode': (0, 4, 0),\n",
      " 'AeExposureMode': (0, 3, 0),\n",
      " 'AfSpeed': (0, 1, 0),\n",
      " 'AfRange': (0, 2, 0),\n",
      " 'AfMode': (0, 2, 0),\n",
      " 'Saturation': (0.0, 32.0, 1.0),\n",
      " 'ColourTemperature': (100, 100000, None),\n",
      " 'LensPosition': (0.0, 32.0, 1.0),\n",
      " 'AfTrigger': (0, 1, 0),\n",
      " 'AfWindows': ((0, 0, 0, 0), (65535, 65535, 65535, 65535), (0, 0, 0, 0)),\n",
      " 'ColourGains': (0.0, 32.0, None),\n",
      " 'ScalerCrops': ((0, 0, 0, 0), (65535, 65535, 65535, 65535), (0, 0, 0, 0)),\n",
      " 'AwbMode': (0, 7, 0),\n",
      " 'AwbEnable': (False, True, None),\n",
      " 'Contrast': (0.0, 32.0, 1.0),\n",
      " 'AeConstraintMode': (0, 3, 0),\n",
      " 'ExposureTimeMode': (0, 1, 0),\n",
      " 'AeEnable': (False, True, True),\n",
      " 'AfMetering': (0, 1, 0),\n",
      " 'AeMeteringMode': (0, 3, 0),\n",
      " 'AeFlickerPeriod': (100, 1000000, None),\n",
      " 'AfPause': (0, 2, 0),\n",
      " 'AnalogueGainMode': (0, 1, 0),\n",
      " 'StatsOutputEnable': (False, True, False),\n",
      " 'Brightness': (-1.0, 1.0, 0.0),\n",
      " 'ExposureTime': (1, 66666, 20000),\n",
      " 'AeFlickerMode': (0, 1, 0),\n",
      " 'CnnEnableInputTensor': (False, True, False),\n",
      " 'ExposureValue': (-8.0, 8.0, 0.0),\n",
      " 'Sharpness': (0.0, 16.0, 1.0)}\n",
      "[{'format': SRGGB10_CSI2P,\n",
      "  'unpacked': 'SRGGB10',\n",
      "  'bit_depth': 10,\n",
      "  'size': (1536, 864),\n",
      "  'fps': 120.13,\n",
      "  'crop_limits': (768, 432, 3072, 1728),\n",
      "  'exposure_limits': (9, 77208145, 20000)},\n",
      " {'format': SRGGB10_CSI2P,\n",
      "  'unpacked': 'SRGGB10',\n",
      "  'bit_depth': 10,\n",
      "  'size': (2304, 1296),\n",
      "  'fps': 56.03,\n",
      "  'crop_limits': (0, 0, 4608, 2592),\n",
      "  'exposure_limits': (13, 112015096, 20000)},\n",
      " {'format': SRGGB10_CSI2P,\n",
      "  'unpacked': 'SRGGB10',\n",
      "  'bit_depth': 10,\n",
      "  'size': (4608, 2592),\n",
      "  'fps': 14.35,\n",
      "  'crop_limits': (0, 0, 4608, 2592),\n",
      "  'exposure_limits': (26, 220416802, 20000)}]\n"
     ]
    },
    {
     "name": "stderr",
     "output_type": "stream",
     "text": [
      "[3:37:40.303834560] [8388] \u001b[1;32m INFO \u001b[1;37mCamera \u001b[1;34mcamera.cpp:1205 \u001b[0mconfiguring streams: (0) 640x480-XBGR8888/sRGB (1) 1536x864-BGGR_PISP_COMP1/RAW\n",
      "[3:37:40.304017986] [8410] \u001b[1;32m INFO \u001b[1;37mRPI \u001b[1;34mpisp.cpp:1483 \u001b[0mSensor: /base/axi/pcie@1000120000/rp1/i2c@80000/imx708@1a - Selected sensor format: 1536x864-SBGGR10_1X10 - Selected CFE format: 1536x864-PC1B\n",
      "[3:37:40.310736101] [8388] \u001b[1;32m INFO \u001b[1;37mCamera \u001b[1;34mcamera.cpp:1205 \u001b[0mconfiguring streams: (0) 640x480-XBGR8888/sRGB (1) 2304x1296-BGGR_PISP_COMP1/RAW\n",
      "[3:37:40.310905231] [8410] \u001b[1;32m INFO \u001b[1;37mRPI \u001b[1;34mpisp.cpp:1483 \u001b[0mSensor: /base/axi/pcie@1000120000/rp1/i2c@80000/imx708@1a - Selected sensor format: 2304x1296-SBGGR10_1X10 - Selected CFE format: 2304x1296-PC1B\n",
      "[3:37:40.318565162] [8388] \u001b[1;32m INFO \u001b[1;37mCamera \u001b[1;34mcamera.cpp:1205 \u001b[0mconfiguring streams: (0) 640x480-XBGR8888/sRGB (1) 4608x2592-BGGR_PISP_COMP1/RAW\n",
      "[3:37:40.318742088] [8410] \u001b[1;32m INFO \u001b[1;37mRPI \u001b[1;34mpisp.cpp:1483 \u001b[0mSensor: /base/axi/pcie@1000120000/rp1/i2c@80000/imx708@1a - Selected sensor format: 4608x2592-SBGGR10_1X10 - Selected CFE format: 4608x2592-PC1B\n"
     ]
    }
   ],
   "source": [
    "pprint.pp(picam2.camera_controls)\n",
    "pprint.pp(picam2.sensor_modes)"
   ]
  },
  {
   "cell_type": "code",
   "execution_count": 8,
   "id": "32469952",
   "metadata": {},
   "outputs": [],
   "source": [
    "config_preview = picam2.create_preview_configuration()"
   ]
  },
  {
   "cell_type": "code",
   "execution_count": 9,
   "id": "94a580fa",
   "metadata": {},
   "outputs": [],
   "source": [
    "config_still = picam2.create_still_configuration(raw={'format':'SRGGB10'})"
   ]
  },
  {
   "cell_type": "code",
   "execution_count": 15,
   "id": "c6db1071",
   "metadata": {},
   "outputs": [
    {
     "name": "stderr",
     "output_type": "stream",
     "text": [
      "[3:46:23.848631182] [8414] \u001b[1;32m INFO \u001b[1;37mCamera \u001b[1;34mcamera.cpp:1205 \u001b[0mconfiguring streams: (0) 640x480-XBGR8888/sRGB (1) 1536x864-BGGR_PISP_COMP1/RAW\n",
      "[3:46:23.855868524] [8410] \u001b[1;32m INFO \u001b[1;37mRPI \u001b[1;34mpisp.cpp:1483 \u001b[0mSensor: /base/axi/pcie@1000120000/rp1/i2c@80000/imx708@1a - Selected sensor format: 1536x864-SBGGR10_1X10 - Selected CFE format: 1536x864-PC1B\n"
     ]
    },
    {
     "name": "stdout",
     "output_type": "stream",
     "text": [
      "StreamConfiguration({'size': None, 'format': None, 'stride': None, 'framesize': None, 'preserve_ar': None})\n",
      "StreamConfiguration({'size': (640, 480), 'format': 'XBGR8888', 'stride': None, 'framesize': None, 'preserve_ar': True})\n",
      "(480, 640, 4)\n",
      "dtype('uint8')\n"
     ]
    },
    {
     "name": "stderr",
     "output_type": "stream",
     "text": [
      "[3:46:24.875856983] [8414] \u001b[1;32m INFO \u001b[1;37mCamera \u001b[1;34mcamera.cpp:1205 \u001b[0mconfiguring streams: (0) 4608x2592-BGR888/sRGB (1) 4608x2592-SBGGR16/RAW\n",
      "[3:46:24.881888212] [8410] \u001b[1;32m INFO \u001b[1;37mRPI \u001b[1;34mpisp.cpp:1483 \u001b[0mSensor: /base/axi/pcie@1000120000/rp1/i2c@80000/imx708@1a - Selected sensor format: 4608x2592-SBGGR10_1X10 - Selected CFE format: 4608x2592-BYR2\n"
     ]
    },
    {
     "name": "stdout",
     "output_type": "stream",
     "text": [
      "StreamConfiguration({'size': None, 'format': None, 'stride': None, 'framesize': None, 'preserve_ar': None})\n",
      "StreamConfiguration({'size': (4608, 2592), 'format': 'BGR888', 'stride': None, 'framesize': None, 'preserve_ar': True})\n",
      "(2592, 9216)\n",
      "dtype('uint8')\n",
      "(2592, 4608)\n",
      "dtype('uint16')\n",
      "(2592, 4608, 3)\n",
      "dtype('uint16')\n"
     ]
    }
   ],
   "source": [
    "picam2.configure(config_preview)\n",
    "picam2.start()\n",
    "time.sleep(1)\n",
    "print(picam2.preview_configuration.raw)\n",
    "print(picam2.preview_configuration.main)\n",
    "im = picam2.capture_array()\n",
    "picam2.stop()\n",
    "pprint.pp(im.shape)\n",
    "pprint.pp(im.dtype)\n",
    "#-----------\n",
    "picam2.configure(config_still)\n",
    "picam2.start()\n",
    "time.sleep(1)\n",
    "print(picam2.still_configuration.raw)\n",
    "print(picam2.still_configuration.main)\n",
    "raw = picam2.capture_array('raw')\n",
    "picam2.stop()\n",
    "pprint.pp(raw.shape)\n",
    "pprint.pp(raw.dtype)\n",
    "raw16 = raw.view(np.uint16)\n",
    "pprint.pp(raw16.shape)\n",
    "pprint.pp(raw16.dtype)\n",
    "raw162 = np.maximum(raw16, 64) - 64\n",
    "#raw16 = raw16 * 1\n",
    "#-----------\n",
    "cvimg=cv2.cvtColor(raw162,cv2.COLOR_BayerBGGR2BGR )\n",
    "pprint.pp(cvimg.shape)\n",
    "pprint.pp(cvimg.dtype)"
   ]
  },
  {
   "cell_type": "code",
   "execution_count": 12,
   "id": "8160fca9",
   "metadata": {},
   "outputs": [],
   "source": [
    "cv2.imshow('image window', cvimg)\n",
    "cv2.waitKey(0)\n",
    "cv2.destroyAllWindows()"
   ]
  },
  {
   "cell_type": "code",
   "execution_count": 17,
   "id": "797f5abd",
   "metadata": {},
   "outputs": [
    {
     "name": "stderr",
     "output_type": "stream",
     "text": [
      "[3:53:40.842169973] [8414] \u001b[1;32m INFO \u001b[1;37mCamera \u001b[1;34mcamera.cpp:1205 \u001b[0mconfiguring streams: (0) 4608x2592-BGR888/sRGB (1) 4608x2592-SBGGR16/RAW\n",
      "[3:53:40.849227575] [8410] \u001b[1;32m INFO \u001b[1;37mRPI \u001b[1;34mpisp.cpp:1483 \u001b[0mSensor: /base/axi/pcie@1000120000/rp1/i2c@80000/imx708@1a - Selected sensor format: 4608x2592-SBGGR10_1X10 - Selected CFE format: 4608x2592-BYR2\n"
     ]
    }
   ],
   "source": [
    "config = picam2.create_still_configuration(raw={'format': 'SRGGB10'})\n",
    "picam2.configure(config)\n",
    "picam2.start()\n",
    "\n",
    "# grab a RAW frame\n",
    "raw = picam2.capture_array(\"raw\").view(np.uint16)\n",
    "metadata = picam2.capture_metadata()\n",
    "picam2.stop()\n",
    "\n",
    "# resize image for showing\n",
    "result2 = cv2.resize(raw, dsize=(800,600), interpolation=cv2.INTER_CUBIC)\n",
    "cv2.imshow('Output',result2)\n",
    "# debayer \n",
    "colour = cv2.cvtColor(raw, cv2.COLOR_BayerRGGB2BGR)\n",
    "# resize image for showing\n",
    "resultc = cv2.resize(colour, dsize=(800,600), interpolation=cv2.INTER_CUBIC)\n",
    "cv2.imshow('Colour',resultc)\n",
    "# save both images as TIF\n",
    "cv2.imwrite(\"R.tif\",raw)\n",
    "cv2.imwrite(\"C.tif\",colour)\n",
    "cv2.waitKey(0)\n",
    "cv2.destroyAllWindows()"
   ]
  },
  {
   "cell_type": "code",
   "execution_count": 6,
   "id": "8864611e",
   "metadata": {},
   "outputs": [],
   "source": [
    "picam2.stop()\n"
   ]
  },
  {
   "cell_type": "code",
   "execution_count": 7,
   "id": "358f4a88",
   "metadata": {},
   "outputs": [
    {
     "data": {
      "text/plain": [
       "{'SensorTimestamp': 13070577276000,\n",
       " 'ScalerCrop': (0, 0, 4608, 2592),\n",
       " 'FrameWallClock': 1753640322696894,\n",
       " 'AfPauseState': 0,\n",
       " 'ExposureTime': 59994,\n",
       " 'FocusFoM': 2308,\n",
       " 'DigitalGain': 1.0,\n",
       " 'SensorTemperature': 37.0,\n",
       " 'FrameDuration': 69669,\n",
       " 'LensPosition': 1.0,\n",
       " 'AfState': 0,\n",
       " 'AeState': 1,\n",
       " 'ColourTemperature': 3752,\n",
       " 'Lux': 113.29161071777344,\n",
       " 'ColourGains': (1.6943894624710083, 2.225093126296997),\n",
       " 'SensorBlackLevels': (4096, 4096, 4096, 4096),\n",
       " 'AnalogueGain': 2.0603621006011963,\n",
       " 'ColourCorrectionMatrix': (1.5428211688995361,\n",
       "  -0.3519167900085449,\n",
       "  -0.19089578092098236,\n",
       "  -0.35755807161331177,\n",
       "  1.678984522819519,\n",
       "  -0.3214164674282074,\n",
       "  -0.0029211610089987516,\n",
       "  -0.5530259609222412,\n",
       "  1.5559570789337158)}"
      ]
     },
     "execution_count": 7,
     "metadata": {},
     "output_type": "execute_result"
    }
   ],
   "source": [
    "metadata"
   ]
  },
  {
   "cell_type": "code",
   "execution_count": null,
   "id": "0d389d5e",
   "metadata": {},
   "outputs": [],
   "source": []
  }
 ],
 "metadata": {
  "kernelspec": {
   "display_name": "Python 3 (ipykernel)",
   "language": "python",
   "name": "python3"
  },
  "language_info": {
   "codemirror_mode": {
    "name": "ipython",
    "version": 3
   },
   "file_extension": ".py",
   "mimetype": "text/x-python",
   "name": "python",
   "nbconvert_exporter": "python",
   "pygments_lexer": "ipython3",
   "version": "3.11.2"
  }
 },
 "nbformat": 4,
 "nbformat_minor": 5
}
